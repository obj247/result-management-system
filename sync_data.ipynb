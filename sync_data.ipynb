{
 "cells": [
  {
   "cell_type": "code",
   "execution_count": 2,
   "id": "a9a9358f",
   "metadata": {},
   "outputs": [
    {
     "name": "stdout",
     "output_type": "stream",
     "text": [
      "Requirement already satisfied: mysql-connector-python in c:\\users\\user\\anaconda3\\lib\\site-packages (9.0.0)\n"
     ]
    }
   ],
   "source": [
    "!pip install mysql-connector-python"
   ]
  },
  {
   "cell_type": "code",
   "execution_count": 80,
   "id": "ea3ddac1",
   "metadata": {},
   "outputs": [],
   "source": [
    "import mysql.connector"
   ]
  },
  {
   "cell_type": "code",
   "execution_count": 4,
   "id": "bb46a6cf",
   "metadata": {},
   "outputs": [],
   "source": [
    "import pandas as pd\n",
    "import mysql.connector\n",
    "from mysql.connector import Error"
   ]
  },
  {
   "cell_type": "code",
   "execution_count": 9,
   "id": "c5065b91",
   "metadata": {},
   "outputs": [
    {
     "name": "stdout",
     "output_type": "stream",
     "text": [
      "Requirement already satisfied: sqlalchemy in c:\\users\\user\\anaconda3\\lib\\site-packages (1.4.7)\n",
      "Requirement already satisfied: greenlet!=0.4.17 in c:\\users\\user\\anaconda3\\lib\\site-packages (from sqlalchemy) (1.0.0)\n",
      "Note: you may need to restart the kernel to use updated packages.\n"
     ]
    }
   ],
   "source": [
    "pip install sqlalchemy"
   ]
  },
  {
   "cell_type": "code",
   "execution_count": null,
   "id": "bc55447b",
   "metadata": {},
   "outputs": [],
   "source": []
  },
  {
   "cell_type": "code",
   "execution_count": null,
   "id": "09514f15",
   "metadata": {},
   "outputs": [],
   "source": []
  },
  {
   "cell_type": "code",
   "execution_count": 9,
   "id": "01367b64",
   "metadata": {},
   "outputs": [
    {
     "name": "stdout",
     "output_type": "stream",
     "text": [
      "CSV files loaded successfully.\n",
      "Staging tables cleared.\n",
      "Data loaded into Student_Staging successfully.\n",
      "Data loaded into Student_Profile_Staging successfully.\n",
      "Data loaded into Courses_Staging successfully.\n",
      "Data loaded into Assessment_Staging successfully.\n",
      "Starting synchronization with main tables...\n",
      "Student table synchronized.\n",
      "Student_Profile table synchronized.\n",
      "Courses table synchronized.\n",
      "Assessment table synchronized.\n",
      "Synchronization with main tables completed.\n",
      "Database connection closed. Staging and synchronization completed successfully.\n"
     ]
    }
   ],
   "source": [
    "import pandas as pd\n",
    "import mysql.connector\n",
    "\n",
    "# Database connection details\n",
    "host = \"127.0.0.1\"         # Replace with your host, e.g., 'localhost'\n",
    "user = \"root\"              # Replace with your MySQL username\n",
    "password = \"YOUR PASSWORD\"     # Replace with your MySQL password\n",
    "database = \"schoolresults\" # Replace with your database name\n",
    "\n",
    "# Load the CSV files\n",
    "student_df = pd.read_csv(\"C:/Users/USER/Documents/dataset/student information/student.csv\")\n",
    "student_profile_df = pd.read_csv(\"C:/Users/USER/Documents/dataset/student information/student_profile.csv\")\n",
    "courses_df = pd.read_csv(\"courses.csv\")\n",
    "assessment_df = pd.read_csv(\"C:/Users/USER/Documents/dataset/assessment/Consolidated Assessment.csv\")\n",
    "\n",
    "print(\"CSV files loaded successfully.\")\n",
    "\n",
    "# Connect to the database\n",
    "conn = mysql.connector.connect(host=host, user=user, password=password, database=database)\n",
    "cursor = conn.cursor()\n",
    "\n",
    "try:\n",
    "    # Clear staging tables before inserting new data\n",
    "    staging_tables = ['Student_Staging', 'Student_Profile_Staging', 'Courses_Staging', 'Assessment_Staging']\n",
    "    for table in staging_tables:\n",
    "        cursor.execute(f\"DELETE FROM {table}\")\n",
    "    conn.commit()\n",
    "    print(\"Staging tables cleared.\")\n",
    "\n",
    "    # Insert data into Student_Staging\n",
    "    for _, row in student_df.iterrows():\n",
    "        insert_query = \"\"\"\n",
    "        INSERT INTO Student_Staging (admission_no, first_name, last_name)\n",
    "        VALUES (%s, %s, %s)\n",
    "        \"\"\"\n",
    "        cursor.execute(insert_query, (row['admission_no'], row['first_name'], row['last_name']))\n",
    "    conn.commit()\n",
    "    print(\"Data loaded into Student_Staging successfully.\")\n",
    "\n",
    "    # Insert data into Student_Profile_Staging\n",
    "    for _, row in student_profile_df.iterrows():\n",
    "        insert_query = \"\"\"\n",
    "        INSERT INTO Student_Profile_Staging (student, age, gender, classroom, sit_number)\n",
    "        VALUES (%s, %s, %s, %s, %s)\n",
    "        \"\"\"\n",
    "        cursor.execute(insert_query, (row['student'], row['age'], row['gender'], row['classroom'], row['sit_number']))\n",
    "    conn.commit()\n",
    "    print(\"Data loaded into Student_Profile_Staging successfully.\")\n",
    "\n",
    "    # Insert data into Courses_Staging\n",
    "    for _, row in courses_df.iterrows():\n",
    "        insert_query = \"\"\"\n",
    "        INSERT INTO Courses_Staging (course_code, course_name)\n",
    "        VALUES (%s, %s)\n",
    "        \"\"\"\n",
    "        cursor.execute(insert_query, (row['course_code'], row['course name']))\n",
    "    conn.commit()\n",
    "    print(\"Data loaded into Courses_Staging successfully.\")\n",
    "\n",
    "    # Insert data into Assessment_Staging\n",
    "    for _, row in assessment_df.iterrows():\n",
    "        insert_query = \"\"\"\n",
    "        INSERT INTO Assessment_Staging (course_code, student, first_ca, second_ca, exam, total)\n",
    "        VALUES (%s, %s, %s, %s, %s, %s)\n",
    "        \"\"\"\n",
    "        cursor.execute(insert_query, (row['course_code'], row['student'], row['first_ca'], row['second_ca'], row['exam'], row['total']))\n",
    "    conn.commit()\n",
    "    print(\"Data loaded into Assessment_Staging successfully.\")\n",
    "\n",
    "    # Synchronize staging tables with main tables\n",
    "    print(\"Starting synchronization with main tables...\")\n",
    "\n",
    "    # Synchronize Student table\n",
    "    cursor.execute(\"\"\"\n",
    "        DELETE FROM Student\n",
    "        WHERE admission_no NOT IN (SELECT admission_no FROM Student_Staging);\n",
    "    \"\"\")\n",
    "    cursor.execute(\"\"\"\n",
    "        INSERT INTO Student (admission_no, first_name, last_name)\n",
    "        SELECT admission_no, first_name, last_name\n",
    "        FROM Student_Staging\n",
    "        WHERE admission_no NOT IN (SELECT admission_no FROM Student);\n",
    "    \"\"\")\n",
    "    conn.commit()\n",
    "    print(\"Student table synchronized.\")\n",
    "\n",
    "    # Synchronize Student_Profile table\n",
    "    cursor.execute(\"\"\"\n",
    "        DELETE FROM Student_Profile\n",
    "        WHERE student NOT IN (SELECT student FROM Student_Profile_Staging);\n",
    "    \"\"\")\n",
    "    cursor.execute(\"\"\"\n",
    "        INSERT INTO Student_Profile (student, age, gender, classroom, sit_number)\n",
    "        SELECT student, age, gender, classroom, sit_number\n",
    "        FROM Student_Profile_Staging\n",
    "        WHERE student NOT IN (SELECT student FROM Student_Profile);\n",
    "    \"\"\")\n",
    "    conn.commit()\n",
    "    print(\"Student_Profile table synchronized.\")\n",
    "\n",
    "    # Synchronize Courses table\n",
    "    cursor.execute(\"\"\"\n",
    "        DELETE FROM Courses\n",
    "        WHERE course_code NOT IN (SELECT course_code FROM Courses_Staging);\n",
    "    \"\"\")\n",
    "    cursor.execute(\"\"\"\n",
    "        INSERT INTO Courses (course_code, course_name)\n",
    "        SELECT course_code, course_name\n",
    "        FROM Courses_Staging\n",
    "        WHERE course_code NOT IN (SELECT course_code FROM Courses);\n",
    "    \"\"\")\n",
    "    conn.commit()\n",
    "    print(\"Courses table synchronized.\")\n",
    "\n",
    "    # Synchronize Assessment table\n",
    "    cursor.execute(\"\"\"\n",
    "        DELETE FROM Assessment\n",
    "        WHERE course_code NOT IN (SELECT course_code FROM Assessment_Staging)\n",
    "        OR student NOT IN (SELECT student FROM Assessment_Staging);\n",
    "    \"\"\")\n",
    "    cursor.execute(\"\"\"\n",
    "        INSERT INTO Assessment (course_code, student, first_ca, second_ca, exam, total)\n",
    "        SELECT course_code, student, first_ca, second_ca, exam, total\n",
    "        FROM Assessment_Staging\n",
    "        WHERE (course_code, student) NOT IN (\n",
    "            SELECT course_code, student FROM Assessment\n",
    "        );\n",
    "    \"\"\")\n",
    "    conn.commit()\n",
    "    print(\"Assessment table synchronized.\")\n",
    "\n",
    "    # End of synchronization\n",
    "    print(\"Synchronization with main tables completed.\")\n",
    "\n",
    "except mysql.connector.Error as error:\n",
    "    print(f\"Error: {error}\")\n",
    "\n",
    "finally:\n",
    "    # Close the database connection\n",
    "    cursor.close()\n",
    "    conn.close()\n",
    "    print(\"Database connection closed. Staging and synchronization completed successfully.\")"
   ]
  },
  {
   "cell_type": "code",
   "execution_count": null,
   "id": "4ee77c49",
   "metadata": {},
   "outputs": [],
   "source": []
  },
  {
   "cell_type": "code",
   "execution_count": null,
   "id": "2cf5429e",
   "metadata": {},
   "outputs": [],
   "source": []
  },
  {
   "cell_type": "code",
   "execution_count": null,
   "id": "2ee52cec",
   "metadata": {},
   "outputs": [],
   "source": []
  },
  {
   "cell_type": "code",
   "execution_count": null,
   "id": "f2ce140e",
   "metadata": {},
   "outputs": [],
   "source": []
  },
  {
   "cell_type": "code",
   "execution_count": null,
   "id": "150518a9",
   "metadata": {},
   "outputs": [],
   "source": []
  }
 ],
 "metadata": {
  "kernelspec": {
   "display_name": "Python 3",
   "language": "python",
   "name": "python3"
  },
  "language_info": {
   "codemirror_mode": {
    "name": "ipython",
    "version": 3
   },
   "file_extension": ".py",
   "mimetype": "text/x-python",
   "name": "python",
   "nbconvert_exporter": "python",
   "pygments_lexer": "ipython3",
   "version": "3.8.8"
  }
 },
 "nbformat": 4,
 "nbformat_minor": 5
}
